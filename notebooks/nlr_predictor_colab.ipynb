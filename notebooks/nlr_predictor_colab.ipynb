{
 "cells": [
  {
   "cell_type": "markdown",
   "metadata": {},
   "source": [
    "# 🚀 NLR-Predictor Demo (Colab)\n",
    "Пример запуска: идея → эмбеддинг → предсказание прибыли → фазовая диаграмма"
   ]
  },
  {
   "cell_type": "code",
   "source": [
    "!pip install sentence-transformers matplotlib torch"
   ],
   "metadata": {},
   "execution_count": null,
   "outputs": []
  },
  {
   "cell_type": "code",
   "source": [
    "from sentence_transformers import SentenceTransformer\n",
    "import torch\n",
    "import matplotlib.pyplot as plt\n",
    "import numpy as np\n",
    "from models.nonlinear_predictor import NonlinearRevenuePredictor"
   ],
   "metadata": {},
   "execution_count": null,
   "outputs": []
  },
  {
   "cell_type": "code",
   "source": [
    "model = NonlinearRevenuePredictor()\n",
    "model.eval()\n",
    "embedder = SentenceTransformer('all-MiniLM-L6-v2')"
   ],
   "metadata": {},
   "execution_count": null,
   "outputs": []
  },
  {
   "cell_type": "code",
   "source": [
      {
   "cell_type": "code",
   "source": [
    "# (Опционально) Генерация идеи через LLM (если Ollama установлен)\n",
    "from llm.idea_transformer import run_ollama_prompt\n",
    "idea = run_ollama_prompt(\"Suggest an innovative IT startup idea focused on AI + nonlinear forecasting\")\n",
    "print(idea)"
   ],
   "metadata": {},
   "execution_count": null,
   "outputs": []
  },
    "idea = \"AI tool that helps remote dev teams build MVPs 5x faster\"\n",
    "embedding = embedder.encode(idea)\n",
    "x_seq = torch.tensor(embedding).float().unsqueeze(0).unsqueeze(0)"
   ],
   "metadata": {},
   "execution_count": null,
   "outputs": []
  },
  {
   "cell_type": "code",
   "source": [
    "with torch.no_grad():\n",
    "    y_pred = model(x_seq).item()\n",
    "print(f\"📈 Predicted profit metric: {y_pred:.3f}\")"
   ],
   "metadata": {},
   "execution_count": null,
   "outputs": []
  },
  {
   "cell_type": "code",
   "source": [
    "t = np.linspace(0, 10, 200)\n",
    "x = np.sin(t * y_pred)\n",
    "y = np.cos(t * y_pred)\n",
    "plt.plot(x, y)\n",
    "plt.title(\"Phase Trajectory\")\n",
    "plt.xlabel(\"x\")\n",
    "plt.ylabel(\"y\")\n",
    "plt.grid(True)\n",
    "plt.show()"
   ],
   "metadata": {},
   "execution_count": null,
   "outputs": []
  }
 ],
 "metadata": {},
 "nbformat": 4,
 "nbformat_minor": 2
}
